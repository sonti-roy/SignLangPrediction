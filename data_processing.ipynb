{
 "cells": [
  {
   "cell_type": "code",
   "execution_count": null,
   "metadata": {},
   "outputs": [],
   "source": [
    "c:\\Users\\sonti\\AppData\\Local\\Programs\\Python\\Python312\\python.exe"
   ]
  },
  {
   "cell_type": "code",
   "execution_count": 4,
   "metadata": {},
   "outputs": [
    {
     "name": "stdout",
     "output_type": "stream",
     "text": [
      "Note: you may need to restart the kernel to use updated packages.Collecting scikit-learn\n",
      "  Obtaining dependency information for scikit-learn from https://files.pythonhosted.org/packages/40/77/91f92b2fddbd14201bf36cd0c0e7279f1501a88e7a00ef11261c4b95bb7a/scikit_learn-1.4.2-cp312-cp312-win_amd64.whl.metadata\n",
      "  Downloading scikit_learn-1.4.2-cp312-cp312-win_amd64.whl.metadata (11 kB)\n",
      "Requirement already satisfied: numpy>=1.19.5 in c:\\users\\sonti\\appdata\\local\\programs\\python\\python312\\lib\\site-packages (from scikit-learn) (1.26.4)\n",
      "Requirement already satisfied: scipy>=1.6.0 in c:\\users\\sonti\\appdata\\local\\programs\\python\\python312\\lib\\site-packages (from scikit-learn) (1.13.0)\n",
      "Collecting joblib>=1.2.0 (from scikit-learn)\n",
      "  Obtaining dependency information for joblib>=1.2.0 from https://files.pythonhosted.org/packages/ae/e2/4dea6313ef2b38442fccbbaf4017e50a6c3c8a50e8ee9b512783e5c90409/joblib-1.4.0-py3-none-any.whl.metadata\n",
      "  Downloading joblib-1.4.0-py3-none-any.whl.metadata (5.4 kB)\n",
      "Collecting threadpoolctl>=2.0.0 (from scikit-learn)\n",
      "  Obtaining dependency information for threadpoolctl>=2.0.0 from https://files.pythonhosted.org/packages/1e/84/ccd9b08653022b7785b6e3ee070ffb2825841e0dc119be22f0840b2b35cb/threadpoolctl-3.4.0-py3-none-any.whl.metadata\n",
      "  Downloading threadpoolctl-3.4.0-py3-none-any.whl.metadata (13 kB)\n",
      "Downloading scikit_learn-1.4.2-cp312-cp312-win_amd64.whl (10.6 MB)\n",
      "   ---------------------------------------- 0.0/10.6 MB ? eta -:--:--\n",
      "   ---------------------------------------- 0.0/10.6 MB ? eta -:--:--\n",
      "   ---------------------------------------- 0.0/10.6 MB ? eta -:--:--\n",
      "   ---------------------------------------- 0.0/10.6 MB ? eta -:--:--\n",
      "   ---------------------------------------- 0.0/10.6 MB ? eta -:--:--\n",
      "   ---------------------------------------- 0.1/10.6 MB 939.4 kB/s eta 0:00:12\n",
      "    --------------------------------------- 0.1/10.6 MB 950.9 kB/s eta 0:00:11\n",
      "    --------------------------------------- 0.1/10.6 MB 950.9 kB/s eta 0:00:11\n",
      "    --------------------------------------- 0.1/10.6 MB 950.9 kB/s eta 0:00:11\n",
      "    --------------------------------------- 0.3/10.6 MB 927.4 kB/s eta 0:00:12\n",
      "   - -------------------------------------- 0.4/10.6 MB 1.0 MB/s eta 0:00:11\n",
      "   -- ------------------------------------- 0.5/10.6 MB 1.3 MB/s eta 0:00:08\n",
      "   -- ------------------------------------- 0.7/10.6 MB 1.7 MB/s eta 0:00:06\n",
      "   ---- ----------------------------------- 1.1/10.6 MB 2.3 MB/s eta 0:00:05\n",
      "   ---- ----------------------------------- 1.3/10.6 MB 2.4 MB/s eta 0:00:04\n",
      "   ---- ----------------------------------- 1.3/10.6 MB 2.4 MB/s eta 0:00:04\n",
      "   ---- ----------------------------------- 1.3/10.6 MB 2.4 MB/s eta 0:00:04\n",
      "   -------- ------------------------------- 2.3/10.6 MB 3.4 MB/s eta 0:00:03\n",
      "   ---------- ----------------------------- 2.8/10.6 MB 3.7 MB/s eta 0:00:03\n",
      "   ------------ --------------------------- 3.4/10.6 MB 4.5 MB/s eta 0:00:02\n",
      "   ------------ --------------------------- 3.4/10.6 MB 4.5 MB/s eta 0:00:02\n",
      "   ------------ --------------------------- 3.4/10.6 MB 4.5 MB/s eta 0:00:02\n",
      "   ----------------- ---------------------- 4.5/10.6 MB 5.0 MB/s eta 0:00:02\n",
      "   ------------------- -------------------- 5.3/10.6 MB 5.5 MB/s eta 0:00:01\n",
      "   ------------------------- -------------- 6.8/10.6 MB 6.7 MB/s eta 0:00:01\n",
      "   ----------------------------- ---------- 7.7/10.6 MB 7.3 MB/s eta 0:00:01\n",
      "   ----------------------------------- ---- 9.3/10.6 MB 8.4 MB/s eta 0:00:01\n",
      "   -------------------------------------- - 10.1/10.6 MB 8.9 MB/s eta 0:00:01\n",
      "   -------------------------------------- - 10.1/10.6 MB 8.9 MB/s eta 0:00:01\n",
      "   ---------------------------------------  10.6/10.6 MB 11.3 MB/s eta 0:00:01\n",
      "   ---------------------------------------  10.6/10.6 MB 11.3 MB/s eta 0:00:01\n",
      "   ---------------------------------------- 10.6/10.6 MB 9.9 MB/s eta 0:00:00\n",
      "Downloading joblib-1.4.0-py3-none-any.whl (301 kB)\n",
      "   ---------------------------------------- 0.0/301.2 kB ? eta -:--:--\n",
      "   --------------------------------------- 301.2/301.2 kB 18.2 MB/s eta 0:00:00\n",
      "Downloading threadpoolctl-3.4.0-py3-none-any.whl (17 kB)\n",
      "Installing collected packages: threadpoolctl, joblib, scikit-learn\n",
      "Successfully installed joblib-1.4.0 scikit-learn-1.4.2 threadpoolctl-3.4.0\n",
      "\n"
     ]
    },
    {
     "name": "stderr",
     "output_type": "stream",
     "text": [
      "\n",
      "[notice] A new release of pip is available: 23.2.1 -> 24.0\n",
      "[notice] To update, run: python.exe -m pip install --upgrade pip\n"
     ]
    }
   ],
   "source": [
    "pip install -U scikit-learn"
   ]
  }
 ],
 "metadata": {
  "kernelspec": {
   "display_name": "Python 3",
   "language": "python",
   "name": "python3"
  },
  "language_info": {
   "codemirror_mode": {
    "name": "ipython",
    "version": 3
   },
   "file_extension": ".py",
   "mimetype": "text/x-python",
   "name": "python",
   "nbconvert_exporter": "python",
   "pygments_lexer": "ipython3",
   "version": "3.12.0"
  }
 },
 "nbformat": 4,
 "nbformat_minor": 2
}
